{
 "cells": [
  {
   "cell_type": "code",
   "execution_count": 1,
   "metadata": {},
   "outputs": [
    {
     "name": "stdout",
     "output_type": "stream",
     "text": [
      "API_discovery_and_translation.md\n",
      "Automation_VS_Orchestrations.md\n",
      "Configuration_Managment_Tools.md\n",
      "Essential_characteristics_for_manageability.md\n",
      "Functionality_of_Container_Orchestrisation.md\n",
      "Kubernetes_and_IBM.md\n",
      "Kubernetes_Orchestrisation.md\n",
      "Life_of_a_request.md\n",
      "Microservices_Orchasterisation_Example.md\n",
      "Microservice_Orchasterisation_Docker_Swarm.md\n",
      "Minikube_Kubectil.md\n",
      "Planning_Tools.md\n",
      "Popular_tools_Docker_Orchestrisation_Kubernetes.md\n",
      "Service_Discovery_Tools.md\n"
     ]
    }
   ],
   "source": [
    "import os\n",
    "for x in os.listdir():\n",
    "    if x.endswith(\".md\"):\n",
    "        # Prints only text file present in My Folder\n",
    "        print(x)"
   ]
  },
  {
   "cell_type": "code",
   "execution_count": null,
   "metadata": {},
   "outputs": [],
   "source": []
  }
 ],
 "metadata": {
  "kernelspec": {
   "display_name": "Python 3",
   "language": "python",
   "name": "python3"
  },
  "language_info": {
   "codemirror_mode": {
    "name": "ipython",
    "version": 3
   },
   "file_extension": ".py",
   "mimetype": "text/x-python",
   "name": "python",
   "nbconvert_exporter": "python",
   "pygments_lexer": "ipython3",
   "version": "3.9.19"
  }
 },
 "nbformat": 4,
 "nbformat_minor": 2
}
